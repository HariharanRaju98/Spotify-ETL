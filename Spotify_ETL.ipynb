{
 "cells": [
  {
   "cell_type": "code",
   "execution_count": 4,
   "id": "485efef9",
   "metadata": {},
   "outputs": [
    {
     "name": "stdout",
     "output_type": "stream",
     "text": [
      "Collecting spotipyNote: you may need to restart the kernel to use updated packages.\n",
      "\n",
      "  Downloading spotipy-2.23.0-py3-none-any.whl (29 kB)\n",
      "Collecting redis>=3.5.3 (from spotipy)\n",
      "  Downloading redis-5.0.1-py3-none-any.whl.metadata (8.9 kB)\n",
      "Requirement already satisfied: requests>=2.25.0 in c:\\users\\hari\\appdata\\local\\programs\\python\\python312\\lib\\site-packages (from spotipy) (2.31.0)\n",
      "Requirement already satisfied: six>=1.15.0 in c:\\users\\hari\\appdata\\local\\programs\\python\\python312\\lib\\site-packages (from spotipy) (1.16.0)\n",
      "Requirement already satisfied: urllib3>=1.26.0 in c:\\users\\hari\\appdata\\local\\programs\\python\\python312\\lib\\site-packages (from spotipy) (2.1.0)\n",
      "Requirement already satisfied: charset-normalizer<4,>=2 in c:\\users\\hari\\appdata\\local\\programs\\python\\python312\\lib\\site-packages (from requests>=2.25.0->spotipy) (3.3.2)\n",
      "Requirement already satisfied: idna<4,>=2.5 in c:\\users\\hari\\appdata\\local\\programs\\python\\python312\\lib\\site-packages (from requests>=2.25.0->spotipy) (3.6)\n",
      "Requirement already satisfied: certifi>=2017.4.17 in c:\\users\\hari\\appdata\\local\\programs\\python\\python312\\lib\\site-packages (from requests>=2.25.0->spotipy) (2023.11.17)\n",
      "Downloading redis-5.0.1-py3-none-any.whl (250 kB)\n",
      "   ---------------------------------------- 0.0/250.3 kB ? eta -:--:--\n",
      "   --------- ------------------------------ 61.4/250.3 kB 3.4 MB/s eta 0:00:01\n",
      "   ---------------------------------------  245.8/250.3 kB 3.0 MB/s eta 0:00:01\n",
      "   ---------------------------------------  245.8/250.3 kB 3.0 MB/s eta 0:00:01\n",
      "   ---------------------------------------- 250.3/250.3 kB 1.5 MB/s eta 0:00:00\n",
      "Installing collected packages: redis, spotipy\n",
      "Successfully installed redis-5.0.1 spotipy-2.23.0\n"
     ]
    }
   ],
   "source": [
    "pip install spotipy"
   ]
  },
  {
   "cell_type": "code",
   "execution_count": null,
   "id": "b5cb3aa7",
   "metadata": {},
   "outputs": [],
   "source": [
    "#importing the required packages- Spotipy is the module to access the spotify API"
   ]
  },
  {
   "cell_type": "code",
   "execution_count": 2,
   "id": "c836fc52",
   "metadata": {},
   "outputs": [],
   "source": [
    "import spotipy\n",
    "import pandas as pd\n",
    "from spotipy.oauth2 import SpotifyClientCredentials"
   ]
  },
  {
   "cell_type": "code",
   "execution_count": 3,
   "id": "111d4983-bd03-4542-ae8a-a45af1049fbc",
   "metadata": {},
   "outputs": [],
   "source": [
    "#Pass the access key and id in client_secret and client_id"
   ]
  },
  {
   "cell_type": "code",
   "execution_count": 17,
   "id": "1d8759d6",
   "metadata": {},
   "outputs": [],
   "source": [
    "client_cred_manager= SpotifyClientCredentials(client_id=\"*\", client_secret=\"*\")"
   ]
  },
  {
   "cell_type": "code",
   "execution_count": 18,
   "id": "d40a8f70",
   "metadata": {},
   "outputs": [],
   "source": [
    "#create an object for Spotipy"
   ]
  },
  {
   "cell_type": "code",
   "execution_count": 10,
   "id": "3f681571",
   "metadata": {},
   "outputs": [],
   "source": [
    "sp= spotipy.Spotify(client_credentials_manager=client_cred_manager)"
   ]
  },
  {
   "cell_type": "code",
   "execution_count": 6,
   "id": "f484ada4",
   "metadata": {},
   "outputs": [],
   "source": [
    "#link of the top 50 songs global"
   ]
  },
  {
   "cell_type": "code",
   "execution_count": 7,
   "id": "b20aa617",
   "metadata": {},
   "outputs": [],
   "source": [
    "playlist = \"https://open.spotify.com/playlist/37i9dQZEVXbMDoHDwVN2tF\""
   ]
  },
  {
   "cell_type": "code",
   "execution_count": 8,
   "id": "03709488",
   "metadata": {},
   "outputs": [],
   "source": [
    "playlist_uri=playlist.split('/')[-1]"
   ]
  },
  {
   "cell_type": "code",
   "execution_count": 11,
   "id": "4dee8ce2",
   "metadata": {},
   "outputs": [],
   "source": [
    "data=sp.playlist_tracks(playlist_uri)"
   ]
  },
  {
   "cell_type": "code",
   "execution_count": null,
   "id": "a2fa9cb9-7a05-41c5-8550-9dcf27be84eb",
   "metadata": {},
   "outputs": [],
   "source": [
    "#List for album details"
   ]
  },
  {
   "cell_type": "code",
   "execution_count": 12,
   "id": "31a195c4",
   "metadata": {},
   "outputs": [],
   "source": [
    "album_list=[]\n",
    "for row in data['items']:\n",
    "    album_id=row['track']['album']['id']\n",
    "    album_name= row['track']['album']['name']\n",
    "    album_url=row['track']['album']['external_urls']['spotify']\n",
    "    album_release_Date=row['track']['album']['release_date']\n",
    "    album_total_tracks=row['track']['album']['total_tracks']\n",
    "    album_data={'album_id':album_id,'album_name':album_name,'album_url':album_url,'album_total_tracks':album_total_tracks,'album_release_Date':album_release_Date}\n",
    "    album_list.append(album_data)"
   ]
  },
  {
   "cell_type": "code",
   "execution_count": null,
   "id": "f383005e-eb05-464c-bceb-2ea821f3ab0b",
   "metadata": {},
   "outputs": [],
   "source": [
    "#List for artist details"
   ]
  },
  {
   "cell_type": "code",
   "execution_count": 13,
   "id": "b7e4b811",
   "metadata": {},
   "outputs": [],
   "source": [
    "artist_list=[]\n",
    "for row in data['items']:\n",
    "    for key, values in row.items():\n",
    "        if key == 'track':\n",
    "            for art in (values['artists']):\n",
    "                artist_name=art['name']\n",
    "                artist_id=art['id']\n",
    "                artist_urls=art['external_urls']['spotify']\n",
    "                artists={'artist_id':artist_id,'artist_name':artist_name,'external_urls':artist_urls}\n",
    "                artist_list.append(artists)"
   ]
  },
  {
   "cell_type": "code",
   "execution_count": null,
   "id": "ada87c38-ac03-4a78-b549-e688c38ee10c",
   "metadata": {},
   "outputs": [],
   "source": [
    "#List for song details"
   ]
  },
  {
   "cell_type": "code",
   "execution_count": 14,
   "id": "35a1f3f8",
   "metadata": {},
   "outputs": [],
   "source": [
    "song_list=[]\n",
    "for row in data['items']:\n",
    "    song_id=row['track']['id']\n",
    "    song_name=row['track']['name']\n",
    "    song_duration=row['track']['duration_ms']\n",
    "    song_url=row['track']['external_urls']['spotify']\n",
    "    song_added=row['added_at']\n",
    "    album_id=row['track']['album']['id']\n",
    "    artist_id=row['track']['album']['artists'][0]['id']\n",
    "    song_list.append({\"song_id\":song_id,\"song_name\":song_name,\"song_duration\":song_duration,\"song_url\":song_url,\"song_added\":song_added,\"album_id\":album_id, \\\n",
    "                      \"artist_id\":artist_id})"
   ]
  },
  {
   "cell_type": "code",
   "execution_count": null,
   "id": "c1f1e2e4-7e1a-42e1-99db-86a00aa2f3dc",
   "metadata": {},
   "outputs": [],
   "source": [
    "#creating a pandas dataframe from the album_list"
   ]
  },
  {
   "cell_type": "code",
   "execution_count": 15,
   "id": "406debb8",
   "metadata": {},
   "outputs": [],
   "source": [
    "album_df=pd.DataFrame(album_list)"
   ]
  },
  {
   "cell_type": "code",
   "execution_count": null,
   "id": "9e9a2da2-9808-4073-86c1-a638ed726e6e",
   "metadata": {},
   "outputs": [],
   "source": [
    "#removing the duplicates"
   ]
  },
  {
   "cell_type": "code",
   "execution_count": 19,
   "id": "8124657b-ee8f-4256-9ce9-03e14f320c6d",
   "metadata": {},
   "outputs": [],
   "source": [
    "album_df=album_df.drop_duplicates(subset='album_id')"
   ]
  },
  {
   "cell_type": "code",
   "execution_count": null,
   "id": "0cab2455-0f5e-4fbe-aa5f-9cc3c2cef40a",
   "metadata": {},
   "outputs": [],
   "source": [
    "#converting the object field into datatime field"
   ]
  },
  {
   "cell_type": "code",
   "execution_count": 20,
   "id": "3e8aa2fc-6a62-41dd-ab7e-21c72254a6a7",
   "metadata": {},
   "outputs": [],
   "source": [
    "album_df['album_release_Date']=pd.to_datetime(album_df['album_release_Date'])"
   ]
  },
  {
   "cell_type": "code",
   "execution_count": null,
   "id": "66f0190f-6a35-42f9-ad47-7f8c0a83d4d0",
   "metadata": {},
   "outputs": [],
   "source": [
    "#creating a pandas dataframe from the artist_list"
   ]
  },
  {
   "cell_type": "code",
   "execution_count": 22,
   "id": "d37bee89-53ad-485b-b5b4-5363629ecd34",
   "metadata": {},
   "outputs": [],
   "source": [
    "artist_df=pd.DataFrame(artist_list)"
   ]
  },
  {
   "cell_type": "code",
   "execution_count": 25,
   "id": "1d81e924-7382-4553-8f93-36962f87669f",
   "metadata": {},
   "outputs": [],
   "source": [
    "artist_df=artist_df.drop_duplicates(subset='artist_id')"
   ]
  },
  {
   "cell_type": "code",
   "execution_count": null,
   "id": "a9bcc150-0810-426e-8103-ce963a880b62",
   "metadata": {},
   "outputs": [],
   "source": [
    "##creating a pandas dataframe from the song_list"
   ]
  },
  {
   "cell_type": "code",
   "execution_count": 27,
   "id": "1e747ff5-4546-4b29-93b2-959160219322",
   "metadata": {},
   "outputs": [],
   "source": [
    "song_df=pd.DataFrame(song_list)"
   ]
  },
  {
   "cell_type": "code",
   "execution_count": 28,
   "id": "5bd5a28f-b432-468f-9c0e-07581d9ba081",
   "metadata": {},
   "outputs": [],
   "source": [
    "song_df=song_df.drop_duplicates(subset='song_id')"
   ]
  },
  {
   "cell_type": "code",
   "execution_count": 29,
   "id": "dd79af48-f107-4f45-af9a-d2ef862bc032",
   "metadata": {},
   "outputs": [],
   "source": [
    "song_df['song_added']=pd.to_datetime(song_df['song_added'])"
   ]
  }
 ],
 "metadata": {
  "kernelspec": {
   "display_name": "Python 3 (ipykernel)",
   "language": "python",
   "name": "python3"
  },
  "language_info": {
   "codemirror_mode": {
    "name": "ipython",
    "version": 3
   },
   "file_extension": ".py",
   "mimetype": "text/x-python",
   "name": "python",
   "nbconvert_exporter": "python",
   "pygments_lexer": "ipython3",
   "version": "3.12.0"
  }
 },
 "nbformat": 4,
 "nbformat_minor": 5
}
